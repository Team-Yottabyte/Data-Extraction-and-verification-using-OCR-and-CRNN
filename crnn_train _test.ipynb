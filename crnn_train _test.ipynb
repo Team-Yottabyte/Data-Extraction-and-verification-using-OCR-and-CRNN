{
 "cells": [
  {
   "cell_type": "code",
   "execution_count": 6,
   "id": "511f9fd4-461a-467d-8412-762d0cf4e908",
   "metadata": {},
   "outputs": [
    {
     "name": "stdin",
     "output_type": "stream",
     "text": [
      "Enter the path to your dataset directory : yugyg\n",
      "Enter the number of epochs:  bb\n"
     ]
    },
    {
     "ename": "ValueError",
     "evalue": "invalid literal for int() with base 10: 'bb'",
     "output_type": "error",
     "traceback": [
      "\u001b[1;31m---------------------------------------------------------------------------\u001b[0m",
      "\u001b[1;31mValueError\u001b[0m                                Traceback (most recent call last)",
      "Cell \u001b[1;32mIn[6], line 58\u001b[0m\n\u001b[0;32m     56\u001b[0m \u001b[38;5;28;01mif\u001b[39;00m \u001b[38;5;18m__name__\u001b[39m \u001b[38;5;241m==\u001b[39m \u001b[38;5;124m\"\u001b[39m\u001b[38;5;124m__main__\u001b[39m\u001b[38;5;124m\"\u001b[39m:\n\u001b[0;32m     57\u001b[0m     data_dir \u001b[38;5;241m=\u001b[39m \u001b[38;5;28minput\u001b[39m(\u001b[38;5;124m\"\u001b[39m\u001b[38;5;124mEnter the path to your dataset directory :\u001b[39m\u001b[38;5;124m\"\u001b[39m)\n\u001b[1;32m---> 58\u001b[0m     epochs \u001b[38;5;241m=\u001b[39m \u001b[38;5;28mint\u001b[39m(\u001b[38;5;28minput\u001b[39m(\u001b[38;5;124m\"\u001b[39m\u001b[38;5;124mEnter the number of epochs: \u001b[39m\u001b[38;5;124m\"\u001b[39m))\n\u001b[0;32m     59\u001b[0m     batch_size \u001b[38;5;241m=\u001b[39m \u001b[38;5;28mint\u001b[39m(\u001b[38;5;28minput\u001b[39m(\u001b[38;5;124m\"\u001b[39m\u001b[38;5;124mEnter the batch size: \u001b[39m\u001b[38;5;124m\"\u001b[39m))\n\u001b[0;32m     60\u001b[0m     train_crnn(data_dir, epochs\u001b[38;5;241m=\u001b[39mepochs, batch_size\u001b[38;5;241m=\u001b[39mbatch_size)\n",
      "\u001b[1;31mValueError\u001b[0m: invalid literal for int() with base 10: 'bb'"
     ]
    }
   ],
   "source": [
    "import os\n",
    "import cv2\n",
    "import numpy as np\n",
    "from tensorflow.keras import layers, models\n",
    "\n",
    "def load_data(data_dir, img_size=(128, 32)):\n",
    "    images = []\n",
    "    for img_file in os.listdir(data_dir):\n",
    "        img_path = os.path.join(data_dir, img_file)\n",
    "        img = cv2.imread(img_path)\n",
    "        img = cv2.cvtColor(img, cv2.COLOR_BGR2GRAY)  \n",
    "        img = cv2.resize(img, img_size)  \n",
    "        images.append(img)\n",
    "    return np.array(images)\n",
    "\n",
    "  \n",
    "def build_crnn_model(input_shape=(32, 128, 1)):\n",
    "    inputs = layers.Input(shape=input_shape)\n",
    "    nn = layers.Conv2D(32, (3, 3), activation='relu', padding='same')(inputs)\n",
    "    nn = layers.MaxPooling2D(pool_size=(2, 2))(nn)\n",
    "    nn = layers.Conv2D(64, (3, 3), activation='relu', padding='same')(nn)\n",
    "    nn = layers.MaxPooling2D(pool_size=(2, 2))(nn)\n",
    "    nn = layers.Conv2D(128, (3, 3), activation='relu', padding='same')(nn)\n",
    "    nn = layers.MaxPooling2D(pool_size=(2, 2))(nn)\n",
    "    nn = layers.Conv2D(256, (3, 3), activation='relu', padding='same')(nn)\n",
    "    nn = layers.MaxPooling2D(pool_size=(2, 2))(nn)\n",
    "    nn = layers.Conv2D(512, (3, 3), activation='relu', padding='same')(nn)\n",
    "    nn = layers.MaxPooling2D(pool_size=(2, 2))(nn)\n",
    "    nn = layers.Reshape(target_shape=(nn.shape[1], nn.shape[2] * 512))(nn)\n",
    "\n",
    "    rnn = layers.Bidirectional(layers.LSTM(128, return_sequences=True))(nn)\n",
    "    rnn = layers.Bidirectional(layers.LSTM(128, return_sequences=True))(rnn)    \n",
    "    outputs = layers.Conv2DTranspose(1, (3, 3), activation='sigmoid', padding='same')(nn)\n",
    "    model = models.Model(inputs, outputs)\n",
    "    return model\n",
    "\n",
    "def data_generator(images, batch_size=32):\n",
    "    while True:\n",
    "        for i in range(0, len(images), batch_size):\n",
    "            batch_images = images[i:i + batch_size]\n",
    "            yield batch_images, batch_images  \n",
    "\n",
    "def train_crnn(data_dir, epochs=10, batch_size=32):\n",
    "    images = load_data(data_dir)\n",
    "    images = images / 255.0  # Normalize\n",
    "    images = np.expand_dims(images, axis=-1)\n",
    "    model = build_crnn_model()\n",
    "    model.compile(optimizer='adam', loss='mean_squared_error', metrics=['accuracy'])\n",
    "\n",
    "    model.fit(data_generator(images, batch_size=batch_size),\n",
    "              steps_per_epoch=len(images) // batch_size, \n",
    "              epochs=epochs)\n",
    "    \n",
    "    model.save(\"crnn_model.h5\")\n",
    "\n",
    "if __name__ == \"__main__\":\n",
    "    data_dir = input(\"Enter the path to your dataset directory :\")\n",
    "    epochs = int(input(\"Enter the number of epochs: \"))\n",
    "    batch_size = int(input(\"Enter the batch size: \"))\n",
    "    train_crnn(data_dir, epochs=epochs, batch_size=batch_size)\n"
   ]
  },
  {
   "cell_type": "code",
   "execution_count": null,
   "id": "fb8a408c-4379-4d39-9aff-85244b06b1cc",
   "metadata": {},
   "outputs": [],
   "source": []
  }
 ],
 "metadata": {
  "kernelspec": {
   "display_name": "Python 3 (ipykernel)",
   "language": "python",
   "name": "python3"
  },
  "language_info": {
   "codemirror_mode": {
    "name": "ipython",
    "version": 3
   },
   "file_extension": ".py",
   "mimetype": "text/x-python",
   "name": "python",
   "nbconvert_exporter": "python",
   "pygments_lexer": "ipython3",
   "version": "3.11.7"
  }
 },
 "nbformat": 4,
 "nbformat_minor": 5
}
